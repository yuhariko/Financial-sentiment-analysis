{
  "nbformat": 4,
  "nbformat_minor": 0,
  "metadata": {
    "colab": {
      "provenance": []
    },
    "kernelspec": {
      "name": "python3",
      "display_name": "Python 3"
    },
    "language_info": {
      "name": "python"
    }
  },
  "cells": [
    {
      "cell_type": "code",
      "execution_count": null,
      "metadata": {
        "colab": {
          "base_uri": "https://localhost:8080/"
        },
        "id": "U_KOM59Aktth",
        "outputId": "342c58ac-1cea-4706-e9c7-0ab5f55cf808"
      },
      "outputs": [
        {
          "output_type": "stream",
          "name": "stderr",
          "text": [
            "[nltk_data] Downloading package wordnet to /root/nltk_data...\n",
            "[nltk_data]   Package wordnet is already up-to-date!\n",
            "[nltk_data] Downloading package punkt to /root/nltk_data...\n",
            "[nltk_data]   Package punkt is already up-to-date!\n"
          ]
        },
        {
          "output_type": "execute_result",
          "data": {
            "text/plain": [
              "True"
            ]
          },
          "metadata": {},
          "execution_count": 48
        }
      ],
      "source": [
        "import re\n",
        "import numpy as np\n",
        "import pandas as pd\n",
        "from sklearn.feature_extraction.text import TfidfVectorizer\n",
        "from sklearn.feature_extraction.text import CountVectorizer\n",
        "import joblib\n",
        "import pickle\n",
        "from sklearn.svm import SVC\n",
        "from sklearn.linear_model import LogisticRegression\n",
        "from string import digits\n",
        "import string\n",
        "from nltk.stem.wordnet import WordNetLemmatizer\n",
        "import nltk\n",
        "from nltk import word_tokenize\n",
        "from gensim.models import Word2Vec\n",
        "nltk.download('wordnet')\n",
        "nltk.download('punkt')"
      ]
    },
    {
      "cell_type": "code",
      "source": [
        "def default_vector():\n",
        "        return np.zeros(100)\n",
        "def remove_urls(text):\n",
        "    url_pattern = re.compile(r'https?://\\S+|www\\.\\S+')\n",
        "    return url_pattern.sub(r'', text)\n",
        "\n",
        "def remove_html(text):\n",
        "    html_pattern = re.compile('<.*?>')\n",
        "    return html_pattern.sub(r'', text)\n",
        "\n",
        "def remove_punctuation(text):\n",
        "    punctuation = string.punctuation\n",
        "    return text.translate(str.maketrans('', '', punctuation))\n",
        "\n",
        "def remove_digits(text):\n",
        "    return text.translate(str.maketrans('', '', digits))\n",
        "\n",
        "lemmatizer = WordNetLemmatizer()\n",
        "def lemmatize_words(text):\n",
        "    return \" \".join([lemmatizer.lemmatize(word) for word in text.split()])\n",
        "\n",
        "def prepro(list):\n",
        "    data = []\n",
        "    for sentence in list:\n",
        "        x = lemmatize_words(remove_digits(remove_punctuation(remove_html(remove_urls(sentence)))))\n",
        "        data.append(x)\n",
        "    return data"
      ],
      "metadata": {
        "id": "b46TlVcUmYfA"
      },
      "execution_count": null,
      "outputs": []
    },
    {
      "cell_type": "code",
      "source": [
        "def tf(list):\n",
        "    with open(\"./weight/tfidf_vectorizer.pkl\", \"rb\") as file:\n",
        "        tfidfModel = pickle.load(file)\n",
        "    tfidf_matrix = tfidfModel.transform(list).todense()\n",
        "    load_model = joblib.load(\"./weight/finalized_model.sav\")\n",
        "    x = pd.DataFrame(tfidf_matrix)\n",
        "    result = load_model.predict(x)\n",
        "    sentiment = {'2': 'positive','1':'neutral','0':'negative'}\n",
        "    result = [sentiment[str(senti)] for senti in result]\n",
        "    return result\n",
        "\n",
        "def we(list):\n",
        "    modelw = Word2Vec.load(\"./weight/word_embedding.bin\")\n",
        "    vectors = [modelw.wv[word] if word in modelw.wv else default_vector() for word in list]\n",
        "    load_model = joblib.load(\"./weight/finalized_model_WE.sav\")\n",
        "    result = load_model.predict(vectors)\n",
        "    sentiment = {'2': 'positive','1':'neutral','0':'negative'}\n",
        "    result = [sentiment[str(senti)] for senti in result]\n",
        "    return result\n",
        "\n",
        "def bow(list):\n",
        "    with open(\"./weight/bow_vectorizer.pkl\", \"rb\") as file:\n",
        "        bowModel = pickle.load(file)\n",
        "    bow_matrix = bowModel.transform(list).todense()\n",
        "    load_model = joblib.load(\"./weight/finalized_model_bow.sav\")\n",
        "    x = pd.DataFrame(bow_matrix)\n",
        "    result = load_model.predict(x)\n",
        "    sentiment = {'2': 'positive','1':'neutral','0':'negative'}\n",
        "    result = [sentiment[str(senti)] for senti in result]\n",
        "    return result"
      ],
      "metadata": {
        "id": "_Y6F4DTvprci"
      },
      "execution_count": null,
      "outputs": []
    },
    {
      "cell_type": "code",
      "source": [
        "sentence = [\"According to L+Ã±nnen Tehtaat 's CEO Matti Karppinen , the company aims to deliver fish products to its customers a day earlier than it currently does .\",\n",
        "      \"Ahlstrom Corporation STOCK EXCHANGE ANNOUNCEMENT 7.2.2007 at 10.30 A total of 56,955 new shares of Ahlstrom Corporation have been subscribed with option rights under the company 's stock option programs I 2001 and II 2001 .\"]\n",
        "result = tf(prepro(sentence))\n",
        "result"
      ],
      "metadata": {
        "colab": {
          "base_uri": "https://localhost:8080/"
        },
        "id": "vAA1o5JUn4d0",
        "outputId": "0f3d47d4-5511-4eaa-9043-5b20a75fbe59"
      },
      "execution_count": null,
      "outputs": [
        {
          "output_type": "stream",
          "name": "stderr",
          "text": [
            "/usr/local/lib/python3.10/dist-packages/sklearn/base.py:439: UserWarning: X does not have valid feature names, but LogisticRegression was fitted with feature names\n",
            "  warnings.warn(\n"
          ]
        },
        {
          "output_type": "execute_result",
          "data": {
            "text/plain": [
              "['positive', 'neutral']"
            ]
          },
          "metadata": {},
          "execution_count": 77
        }
      ]
    }
  ]
}